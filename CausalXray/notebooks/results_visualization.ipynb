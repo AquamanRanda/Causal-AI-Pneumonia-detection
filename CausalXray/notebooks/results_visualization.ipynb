{
    "cells": [
     {
      "cell_type": "markdown",
      "metadata": {},
      "source": [
       "# CausalXray Results Visualization\n",
       "\n",
       "This notebook visualizes experimental results including performance metrics, attribution comparisons, and cross-domain generalization analysis."
      ]
     },
     {
      "cell_type": "code",
      "execution_count": null,
      "metadata": {},
      "outputs": [],
      "source": [
       "# Import libraries\n",
       "import numpy as np\n",
       "import pandas as pd\n",
       "import matplotlib.pyplot as plt\n",
       "import seaborn as sns\n",
       "import json\n",
       "from pathlib import Path\n",
       "\n",
       "# Set visualization style\n",
       "sns.set_style(\"whitegrid\")\n",
       "plt.rcParams[\"figure.figsize\"] = (10, 6)\n",
       "print(\"Libraries imported\")"
      ]
     },
     {
      "cell_type": "markdown",
      "metadata": {},
      "source": [
       "## Load Experiment Results"
      ]
     },
     {
      "cell_type": "code",
      "execution_count": null,
      "metadata": {},
      "outputs": [],
      "source": [
       "# Load results from JSON files\n",
       "results_dir = Path(\"./experiment_results\")\n",
       "results = {\n",
       "    \"baseline\": json.load(open(results_dir / \"baseline_results.json\")),\n",
       "    \"causalxray\": json.load(open(results_dir / \"causalxray_results.json\"))\n",
       "}\n",
       "\n",
       "print(\"Results loaded for:\", list(results.keys()))"
      ]
     },
     {
      "cell_type": "markdown",
      "metadata": {},
      "source": [
       "## Performance Comparison"
      ]
     },
     {
      "cell_type": "code",
      "execution_count": null,
      "metadata": {},
      "outputs": [],
      "source": [
       "# Create performance comparison dataframe\n",
       "metrics = [\"accuracy\", \"auc\", \"sensitivity\", \"specificity\"]\n",
       "data = []\n",
       "for model_name, res in results.items():\n",
       "    for metric in metrics:\n",
       "        data.append({\"Model\": model_name, \"Metric\": metric, \"Value\": res[metric]})\n",
       "        \n",
       "df = pd.DataFrame(data)\n",
       "\n",
       "# Plot performance comparison\n",
       "plt.figure(figsize=(12, 6))\n",
       "sns.barplot(x=\"Metric\", y=\"Value\", hue=\"Model\", data=df, palette=\"viridis\")\n",
       "plt.title(\"Model Performance Comparison\")\n",
       "plt.ylabel(\"Score\")\n",
       "plt.ylim(0.7, 1.0)\n",
       "plt.show()"
      ]
     },
     {
      "cell_type": "markdown",
      "metadata": {},
      "source": [
       "## Cross-Domain Generalization"
      ]
     },
     {
      "cell_type": "code",
      "execution_count": null,
      "metadata": {},
      "outputs": [],
      "source": [
       "# Load cross-domain results\n",
       "domain_results = json.load(open(results_dir / \"cross_domain_results.json\"))\n",
       "domain_df = pd.DataFrame(domain_results)\n",
       "\n",
       "# Plot domain shift impact\n",
       "plt.figure(figsize=(10, 6))\n",
       "sns.lineplot(\n",
       "    data=domain_df, \n",
       "    x=\"domain_distance\", \n",
       "    y=\"accuracy\", \n",
       "    hue=\"model\", \n",
       "    style=\"model\", \n",
       "    markers=True\n",
       ")\n",
       "plt.title(\"Cross-Domain Performance Degradation\")\n",
       "plt.xlabel(\"Domain Distance (MMD)\")\n",
       "plt.ylabel(\"Accuracy\")\n",
       "plt.grid(True)\n",
       "plt.show()"
      ]
     },
     {
      "cell_type": "markdown",
      "metadata": {},
      "source": [
       "## Attribution Consistency Analysis"
      ]
     },
     {
      "cell_type": "code",
      "execution_count": null,
      "metadata": {},
      "outputs": [],
      "source": [
       "# Load attribution consistency metrics\n",
       "attribution_data = json.load(open(results_dir / \"attribution_metrics.json\"))\n",
       "attrib_df = pd.DataFrame(attribution_data)\n",
       "\n",
       "# Plot attribution consistency\n",
       "plt.figure(figsize=(10, 6))\n",
       "sns.boxplot(\n",
       "    x=\"method\", \n",
       "    y=\"radiologist_agreement\", \n",
       "    data=attrib_df,\n",
       "    palette=\"coolwarm\"\n",
       ")\n",
       "plt.title(\"Attribution Method Agreement with Radiologists\")\n",
       "plt.xlabel(\"Attribution Method\")\n",
       "plt.ylabel(\"Agreement Score\")\n",
       "plt.ylim(0.5, 1.0)\n",
       "plt.show()"
      ]
     },
     {
      "cell_type": "markdown",
      "metadata": {},
      "source": [
       "## Confounder Analysis"
      ]
     },
     {
      "cell_type": "code",
      "execution_count": null,
      "metadata": {},
      "outputs": [],
      "source": [
       "# Load confounder analysis results\n",
       "confounder_data = json.load(open(results_dir / \"confounder_analysis.json\"))\n",
       "conf_df = pd.DataFrame(confounder_data)\n",
       "\n",
       "# Plot confounder impact\n",
       "plt.figure(figsize=(12, 8))\n",
       "sns.heatmap(\n",
       "    conf_df.set_index(\"confounder\"), \n",
       "    annot=True, \n",
       "    cmap=\"coolwarm\", \n",
       "    fmt=\".2f\",\n",
       "    linewidths=.5\n",
       ")\n",
       "plt.title(\"Confounder Impact on Model Performance\")\n",
       "plt.xlabel(\"Performance Metric\")\n",
       "plt.ylabel(\"Confounder\")\n",
       "plt.show()"
      ]
     }
    ],
    "metadata": {
     "kernelspec": {
      "display_name": "causalxray",
      "language": "python",
      "name": "python3"
     },
     "language_info": {
      "name": "python",
      "version": "3.9"
     }
    },
    "nbformat": 4,
    "nbformat_minor": 4
   }
   