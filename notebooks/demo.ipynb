{
    "cells": [
     {
      "cell_type": "markdown",
      "metadata": {},
      "source": [
       "# CausalXray Demo Notebook\n",
       "\n",
       "This notebook demonstrates the end-to-end pipeline of the CausalXray framework, including data download, model loading, inference, and visualization of causal attributions."
      ]
     },
     {
      "cell_type": "code",
      "execution_count": null,
      "metadata": {},
      "outputs": [],
      "source": [
       "# Import necessary libraries\n",
       "import torch\n",
       "from pathlib import Path\n",
       "import matplotlib.pyplot as plt\n",
       "from PIL import Image\n",
       "import numpy as np\n",
       "import json\n",
       "\n",
       "from causalxray import CausalXray\n",
       "from causalxray.data import CausalTransforms\n",
       "from causalxray.utils import AttributionVisualizer\n",
       "\n",
       "print('Libraries imported successfully')"
      ]
     },
     {
      "cell_type": "markdown",
      "metadata": {},
      "source": [
       "## Download Sample Data"
      ]
     },
     {
      "cell_type": "code",
      "execution_count": null,
      "metadata": {},
      "outputs": [],
      "source": [
       "# Download small sample subset of NIH CXR14 dataset\n",
       "!kaggle datasets download -d nih-chest-xrays/sample -p ./data/sample_nih --unzip\n",
       "\n",
       "data_dir = Path('./data/sample_nih')\n",
       "print(f'Data directory set to: {data_dir}')"
      ]
     },
     {
      "cell_type": "markdown",
      "metadata": {},
      "source": [
       "## Load Pretrained Model"
      ]
     },
     {
      "cell_type": "code",
      "execution_count": null,
      "metadata": {},
      "outputs": [],
      "source": [
       "# Load pretrained CausalXray model\n",
       "model_path = './models/causalxray_pretrained.pth'\n",
       "device = torch.device('cuda' if torch.cuda.is_available() else 'cpu')\n",
       "model, _ = CausalXray.load_checkpoint(model_path, device)\n",
       "model.to(device)\n",
       "model.eval()\n",
       "print('Model loaded and set to evaluation mode')"
      ]
     },
     {
      "cell_type": "markdown",
      "metadata": {},
      "source": [
       "## Prepare Sample Image and Transform"
      ]
     },
     {
      "cell_type": "code",
      "execution_count": null,
      "metadata": {},
      "outputs": [],
      "source": [
       "# Load and preprocess sample image\n",
       "sample_image_path = list(data_dir.glob('*.png'))[0]\n",
       "image = Image.open(sample_image_path)\n",
       "transforms = CausalTransforms(mode='test')\n",
       "image_tensor = transforms(image).unsqueeze(0).to(device)\n",
       "print(f'Sample image loaded: {sample_image_path.name}')"
      ]
     },
     {
      "cell_type": "markdown",
      "metadata": {},
      "source": [
       "## Run Inference and Generate Causal Attribution"
      ]
     },
     {
      "cell_type": "code",
      "execution_count": null,
      "metadata": {},
      "outputs": [],
      "source": [
       "# Run inference with causal attribution\n",
       "with torch.no_grad():\n",
       "    outputs = model.predict(image_tensor, return_probabilities=True, return_attributions=True)\n",
       "\n",
       "predicted_class = outputs['predicted_class'].item()\n",
       "probabilities = outputs['probabilities'].cpu().numpy()\n",
       "attributions = outputs.get('attributions', {})\n",
       "\n",
       "print(f'Predicted class: {predicted_class}')\n",
       "print(f'Probabilities: Normal={probabilities[0][0]:.4f}, Pneumonia={probabilities[0][1]:.4f}')"
      ]
     },
     {
      "cell_type": "markdown",
      "metadata": {},
      "source": [
       "## Visualize Attribution Maps"
      ]
     },
     {
      "cell_type": "code",
      "execution_count": null,
      "metadata": {},
      "outputs": [],
      "source": [
       "# Visualize causal attribution heatmaps\n",
       "visualizer = AttributionVisualizer()\n",
       "fig = visualizer.visualize_attribution_comparison(\n",
       "    np.array(image),\n",
       "    {k: v.cpu().numpy()[0] for k, v in attributions.items()},\n",
       "    prediction={\n",
       "        'class': predicted_class,\n",
       "        'probability': probabilities[0][predicted_class]\n",
       "    }\n",
       ")\n",
       "plt.show()"
      ]
     }
    ],
    "metadata": {
     "kernelspec": {
      "display_name": "causalxray",
      "language": "python",
      "name": "python3"
     },
     "language_info": {
      "name": "python",
      "version": "3.9"
     }
    },
    "nbformat": 4,
    "nbformat_minor": 4
   }
   