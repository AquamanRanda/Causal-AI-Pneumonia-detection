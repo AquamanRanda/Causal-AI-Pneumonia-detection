{
 "cells": [
  {
   "cell_type": "markdown",
   "metadata": {},
   "source": [
    "# CausalXray Demo Notebook\n",
    "\n",
    "This notebook demonstrates the end-to-end pipeline of the CausalXray framework, including data download, model loading, inference, and visualization of causal attributions."
   ]
  },
  {
   "cell_type": "code",
   "execution_count": 1,
   "metadata": {},
   "outputs": [
    {
     "ename": "ModuleNotFoundError",
     "evalue": "No module named 'causalxray'",
     "output_type": "error",
     "traceback": [
      "\u001b[1;31m---------------------------------------------------------------------------\u001b[0m",
      "\u001b[1;31mModuleNotFoundError\u001b[0m                       Traceback (most recent call last)",
      "Cell \u001b[1;32mIn[1], line 9\u001b[0m\n\u001b[0;32m      6\u001b[0m \u001b[38;5;28;01mimport\u001b[39;00m \u001b[38;5;21;01mnumpy\u001b[39;00m \u001b[38;5;28;01mas\u001b[39;00m \u001b[38;5;21;01mnp\u001b[39;00m\n\u001b[0;32m      7\u001b[0m \u001b[38;5;28;01mimport\u001b[39;00m \u001b[38;5;21;01mjson\u001b[39;00m\n\u001b[1;32m----> 9\u001b[0m \u001b[38;5;28;01mfrom\u001b[39;00m \u001b[38;5;21;01mcausalxray\u001b[39;00m \u001b[38;5;28;01mimport\u001b[39;00m CausalXray\n\u001b[0;32m     10\u001b[0m \u001b[38;5;28;01mfrom\u001b[39;00m \u001b[38;5;21;01mcausalxray\u001b[39;00m\u001b[38;5;21;01m.\u001b[39;00m\u001b[38;5;21;01mdata\u001b[39;00m \u001b[38;5;28;01mimport\u001b[39;00m CausalTransforms\n\u001b[0;32m     11\u001b[0m \u001b[38;5;28;01mfrom\u001b[39;00m \u001b[38;5;21;01mcausalxray\u001b[39;00m\u001b[38;5;21;01m.\u001b[39;00m\u001b[38;5;21;01mutils\u001b[39;00m \u001b[38;5;28;01mimport\u001b[39;00m AttributionVisualizer\n",
      "\u001b[1;31mModuleNotFoundError\u001b[0m: No module named 'causalxray'"
     ]
    }
   ],
   "source": [
    "# Import necessary libraries\n",
    "import torch\n",
    "from pathlib import Path\n",
    "import matplotlib.pyplot as plt\n",
    "from PIL import Image\n",
    "import numpy as np\n",
    "import json\n",
    "\n",
    "from causalxray import CausalXray\n",
    "from causalxray.data import CausalTransforms\n",
    "from causalxray.utils import AttributionVisualizer\n",
    "\n",
    "print('Libraries imported successfully')"
   ]
  },
  {
   "cell_type": "markdown",
   "metadata": {},
   "source": [
    "## Download Sample Data"
   ]
  },
  {
   "cell_type": "code",
   "execution_count": null,
   "metadata": {},
   "outputs": [],
   "source": [
    "# Download small sample subset of NIH CXR14 dataset\n",
    "!kaggle datasets download -d nih-chest-xrays/sample -p ./data/sample_nih --unzip\n",
    "\n",
    "data_dir = Path('./data/sample_nih')\n",
    "print(f'Data directory set to: {data_dir}')"
   ]
  },
  {
   "cell_type": "markdown",
   "metadata": {},
   "source": [
    "## Load Pretrained Model"
   ]
  },
  {
   "cell_type": "code",
   "execution_count": null,
   "metadata": {},
   "outputs": [],
   "source": [
    "# Load pretrained CausalXray model\n",
    "model_path = './models/causalxray_pretrained.pth'\n",
    "device = torch.device('cuda' if torch.cuda.is_available() else 'cpu')\n",
    "model, _ = CausalXray.load_checkpoint(model_path, device)\n",
    "model.to(device)\n",
    "model.eval()\n",
    "print('Model loaded and set to evaluation mode')"
   ]
  },
  {
   "cell_type": "markdown",
   "metadata": {},
   "source": [
    "## Prepare Sample Image and Transform"
   ]
  },
  {
   "cell_type": "code",
   "execution_count": null,
   "metadata": {},
   "outputs": [],
   "source": [
    "# Load and preprocess sample image\n",
    "sample_image_path = list(data_dir.glob('*.png'))[0]\n",
    "image = Image.open(sample_image_path)\n",
    "transforms = CausalTransforms(mode='test')\n",
    "image_tensor = transforms(image).unsqueeze(0).to(device)\n",
    "print(f'Sample image loaded: {sample_image_path.name}')"
   ]
  },
  {
   "cell_type": "markdown",
   "metadata": {},
   "source": [
    "## Run Inference and Generate Causal Attribution"
   ]
  },
  {
   "cell_type": "code",
   "execution_count": null,
   "metadata": {},
   "outputs": [],
   "source": [
    "# Run inference with causal attribution\n",
    "with torch.no_grad():\n",
    "    outputs = model.predict(image_tensor, return_probabilities=True, return_attributions=True)\n",
    "\n",
    "predicted_class = outputs['predicted_class'].item()\n",
    "probabilities = outputs['probabilities'].cpu().numpy()\n",
    "attributions = outputs.get('attributions', {})\n",
    "\n",
    "print(f'Predicted class: {predicted_class}')\n",
    "print(f'Probabilities: Normal={probabilities[0][0]:.4f}, Pneumonia={probabilities[0][1]:.4f}')"
   ]
  },
  {
   "cell_type": "markdown",
   "metadata": {},
   "source": [
    "## Visualize Attribution Maps"
   ]
  },
  {
   "cell_type": "code",
   "execution_count": null,
   "metadata": {},
   "outputs": [],
   "source": [
    "# Visualize causal attribution heatmaps\n",
    "visualizer = AttributionVisualizer()\n",
    "fig = visualizer.visualize_attribution_comparison(\n",
    "    np.array(image),\n",
    "    {k: v.cpu().numpy()[0] for k, v in attributions.items()},\n",
    "    prediction={\n",
    "        'class': predicted_class,\n",
    "        'probability': probabilities[0][predicted_class]\n",
    "    }\n",
    ")\n",
    "plt.show()"
   ]
  }
 ],
 "metadata": {
  "kernelspec": {
   "display_name": "Python 3",
   "language": "python",
   "name": "python3"
  },
  "language_info": {
   "codemirror_mode": {
    "name": "ipython",
    "version": 3
   },
   "file_extension": ".py",
   "mimetype": "text/x-python",
   "name": "python",
   "nbconvert_exporter": "python",
   "pygments_lexer": "ipython3",
   "version": "3.12.10"
  }
 },
 "nbformat": 4,
 "nbformat_minor": 4
}
