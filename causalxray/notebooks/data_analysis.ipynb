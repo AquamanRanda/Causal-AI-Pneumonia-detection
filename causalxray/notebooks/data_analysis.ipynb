{
 "cells": [
  {
   "cell_type": "markdown",
   "id": "ca8c6799",
   "metadata": {},
   "source": [
    "# Data Analysis for NIH ChestX-ray14 Dataset\n",
    "\n",
    "## Overview\n",
    "This notebook provides exploratory data analysis (EDA) for the NIH ChestX-ray14 dataset used in the CausalXray project. The analysis includes dataset composition, class distribution, and confounder exploration."
   ]
  },
  {
   "cell_type": "code",
   "execution_count": null,
   "id": "5902850e",
   "metadata": {},
   "outputs": [],
   "source": [
    "# Import required libraries\n",
    "import pandas as pd\n",
    "import numpy as np\n",
    "import matplotlib.pyplot as plt\n",
    "import seaborn as sns\n",
    "import pydicom\n",
    "from pathlib import Path\n",
    "import os\n",
    "\n",
    "# Set visualization style\n",
    "sns.set_style('whitegrid')\n",
    "plt.rcParams['figure.figsize'] = (12, 6)"
   ]
  },
  {
   "cell_type": "markdown",
   "id": "0acc7939",
   "metadata": {},
   "source": [
    "## Load Dataset Metadata"
   ]
  },
  {
   "cell_type": "code",
   "execution_count": null,
   "id": "3fc26dff",
   "metadata": {},
   "outputs": [],
   "source": [
    "# Load dataset metadata\n",
    "metadata_path = '../data/nih_chestxray14/Data_Entry_2017.csv'\n",
    "metadata = pd.read_csv(metadata_path)\n",
    "metadata.head()"
   ]
  },
  {
   "cell_type": "markdown",
   "id": "19092532",
   "metadata": {},
   "source": [
    "## Dataset Composition Analysis"
   ]
  },
  {
   "cell_type": "code",
   "execution_count": null,
   "id": "00032cee",
   "metadata": {},
   "outputs": [],
   "source": [
    "# Basic dataset statistics\n",
    "print(f\"Total images: {len(metadata)}\")\n",
    "print(f\"Unique patients: {metadata['Patient ID'].nunique()}\")\n",
    "print(f\"Time span: {metadata['Patient Age'].min()} to {metadata['Patient Age'].max()} years\")\n",
    "\n",
    "# View label distribution\n",
    "label_counts = metadata['Finding Labels'].value_counts()\n",
    "label_counts.head(10)"
   ]
  },
  {
   "cell_type": "markdown",
   "id": "65a70eb0",
   "metadata": {},
   "source": [
    "## Class Distribution"
   ]
  },
  {
   "cell_type": "code",
   "execution_count": null,
   "id": "8903cd76",
   "metadata": {},
   "outputs": [],
   "source": [
    "# Analyze distribution of pathologies\n",
    "# Split multi-label findings into individual columns\n",
    "all_labels = set()\n",
    "for labels in metadata['Finding Labels']:\n",
    "    all_labels.update(labels.split('|'))\n",
    "\n",
    "# Create binary matrix for each pathology\n",
    "for label in all_labels:\n",
    "    metadata[label] = metadata['Finding Labels'].apply(lambda x: 1 if label in x else 0)\n",
    "\n",
    "# Calculate pathology frequencies\n",
    "pathology_freq = metadata[list(all_labels)].sum().sort_values(ascending=False)\n",
    "\n",
    "# Visualize top 15 pathologies\n",
    "plt.figure(figsize=(14, 8))\n",
    "sns.barplot(x=pathology_freq.head(15).values, y=pathology_freq.head(15).index, palette='viridis')\n",
    "plt.title('Top 15 Pathologies in NIH ChestX-ray14 Dataset')\n",
    "plt.xlabel('Count')\n",
    "plt.ylabel('Pathology')\n",
    "plt.show()\n",
    "\n",
    "# Pneumonia-specific analysis\n",
    "pneumonia_df = metadata[metadata['Pneumonia'] == 1]\n",
    "print(f\"Pneumonia cases: {len(pneumonia_df)} ({len(pneumonia_df)/len(metadata)*100:.2f}%)\")"
   ]
  },
  {
   "cell_type": "markdown",
   "id": "89337a86",
   "metadata": {},
   "source": [
    "## Confounder Analysis"
   ]
  },
  {
   "cell_type": "code",
   "execution_count": null,
   "id": "b700f6fc",
   "metadata": {},
   "outputs": [],
   "source": [
    "# Patient Age Distribution\n",
    "plt.figure(figsize=(10, 6))\n",
    "sns.histplot(metadata['Patient Age'], bins=50, kde=True, color='skyblue')\n",
    "plt.title('Patient Age Distribution')\n",
    "plt.xlabel('Age (years)')\n",
    "plt.ylabel('Count')\n",
    "plt.show()\n",
    "\n",
    "# Gender Distribution\n",
    "gender_counts = metadata['Patient Gender'].value_counts()\n",
    "plt.figure(figsize=(8, 6))\n",
    "sns.barplot(x=gender_counts.index, y=gender_counts.values, palette='pastel')\n",
    "plt.title('Patient Gender Distribution')\n",
    "plt.xlabel('Gender')\n",
    "plt.ylabel('Count')\n",
    "plt.show()\n",
    "\n",
    "# View Position Distribution\n",
    "position_counts = metadata['View Position'].value_counts()\n",
    "plt.figure(figsize=(8, 6))\n",
    "sns.barplot(x=position_counts.index, y=position_counts.values, palette='Set2')\n",
    "plt.title('Chest X-ray View Positions')\n",
    "plt.xlabel('View Position')\n",
    "plt.ylabel('Count')\n",
    "plt.show()"
   ]
  },
  {
   "cell_type": "markdown",
   "id": "4ae2b5b6",
   "metadata": {},
   "source": [
    "## Image Analysis"
   ]
  },
  {
   "cell_type": "code",
   "execution_count": null,
   "id": "2a2da070",
   "metadata": {},
   "outputs": [],
   "source": [
    "# Sample image visualization\n",
    "def load_dicom_image(path):\n",
    "    dcm = pydicom.dcmread(path)\n",
    "    img = dcm.pixel_array\n",
    "    return img\n",
    "\n",
    "# Display sample images with different pathologies\n",
    "sample_images = metadata.sample(4)\n",
    "fig, axes = plt.subplots(2, 2, figsize=(12, 10))\n",
    "\n",
    "for i, (idx, row) in enumerate(sample_images.iterrows()):\n",
    "    img_path = f\"../data/nih_chestxray14/images/{row['Image Index']}\"\n",
    "    img = load_dicom_image(img_path)\n",
    "    ax = axes[i//2, i%2]\n",
    "    ax.imshow(img, cmap='gray')\n",
    "    ax.set_title(f\"Findings: {row['Finding Labels']}\\nAge: {row['Patient Age']}, Gender: {row['Patient Gender']}\")\n",
    "    ax.axis('off')\n",
    "\n",
    "plt.tight_layout()\n",
    "plt.show()"
   ]
  },
  {
   "cell_type": "markdown",
   "id": "9447bb8e",
   "metadata": {},
   "source": [
    "## Correlation Analysis"
   ]
  },
  {
   "cell_type": "code",
   "execution_count": null,
   "id": "17eb2841",
   "metadata": {},
   "outputs": [],
   "source": [
    "# Correlation between different pathologies\n",
    "correlation_matrix = metadata[list(all_labels)].corr()\n",
    "\n",
    "# Visualize correlation heatmap\n",
    "plt.figure(figsize=(16, 14))\n",
    "sns.heatmap(correlation_matrix, cmap='coolwarm', vmin=-1, vmax=1, center=0)\n",
    "plt.title('Correlation Matrix of Thoracic Pathologies')\n",
    "plt.show()\n",
    "\n",
    "# Pneumonia correlation analysis\n",
    "pneumonia_corr = correlation_matrix['Pneumonia'].sort_values(ascending=False)[1:11]\n",
    "\n",
    "plt.figure(figsize=(10, 6))\n",
    "sns.barplot(x=pneumonia_corr.values, y=pneumonia_corr.index, palette='rocket')\n",
    "plt.title('Top 10 Pathologies Correlated with Pneumonia')\n",
    "plt.xlabel('Correlation Coefficient')\n",
    "plt.ylabel('Pathology')\n",
    "plt.show()"
   ]
  },
  {
   "cell_type": "markdown",
   "id": "79087cbd",
   "metadata": {},
   "source": [
    "## Dataset Splitting Analysis"
   ]
  },
  {
   "cell_type": "code",
   "execution_count": null,
   "id": "414d39f6",
   "metadata": {},
   "outputs": [],
   "source": [
    "# Check train/test split distribution\n",
    "train_list = pd.read_csv('../data/nih_chestxray14/train_val_list.txt', header=None, names=['Image Index'])\n",
    "test_list = pd.read_csv('../data/nih_chestxray14/test_list.txt', header=None, names=['Image Index'])\n",
    "\n",
    "metadata['Split'] = 'Train'\n",
    "metadata.loc[metadata['Image Index'].isin(test_list['Image Index']), 'Split'] = 'Test'\n",
    "\n",
    "# Visualize split distribution\n",
    "plt.figure(figsize=(8, 6))\n",
    "sns.countplot(x='Split', data=metadata, palette='Set3')\n",
    "plt.title('Dataset Split Distribution')\n",
    "plt.ylabel('Count')\n",
    "plt.show()\n",
    "\n",
    "# Pneumonia distribution across splits\n",
    "pneumonia_split = metadata.groupby('Split')['Pneumonia'].mean().reset_index()\n",
    "plt.figure(figsize=(8, 6))\n",
    "sns.barplot(x='Split', y='Pneumonia', data=pneumonia_split, palette='Set3')\n",
    "plt.title('Pneumonia Prevalence by Dataset Split')\n",
    "plt.ylabel('Proportion with Pneumonia')\n",
    "plt.show()"
   ]
  },
  {
   "cell_type": "markdown",
   "id": "739694b6",
   "metadata": {},
   "source": [
    "## Summary\n",
    "This exploratory analysis provides insights into dataset composition and potential confounders relevant for causal modeling in CausalXray. Key findings:\n",
    "\n",
    "1. **Class Imbalance**: Pneumonia represents only ~1.3% of cases, requiring specialized handling\n",
    "2. **Confounders**: Significant variations in age, gender, and view position distributions\n",
    "3. **Pathology Correlations**: Pneumonia shows strongest correlations with Infiltration and Consolidation\n",
    "4. **Data Splits**: Balanced pneumonia distribution between train/test splits\n",
    "\n",
    "These insights will inform preprocessing strategies and causal graph design for the CausalXray framework development."
   ]
  }
 ],
 "metadata": {
  "kernelspec": {
   "display_name": "Python 3",
   "language": "python",
   "name": "python3"
  },
  "language_info": {
   "name": "python",
   "version": "3.9"
  }
 },
 "nbformat": 4,
 "nbformat_minor": 5
}
